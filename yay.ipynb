#!/usr/bin/env python3

print('yay')
